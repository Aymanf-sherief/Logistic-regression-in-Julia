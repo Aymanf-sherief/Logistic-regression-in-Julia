{
 "cells": [
  {
   "cell_type": "code",
   "execution_count": 1,
   "metadata": {},
   "outputs": [
    {
     "data": {
      "text/plain": [
       "sigmoid (generic function with 1 method)"
      ]
     },
     "execution_count": 1,
     "metadata": {},
     "output_type": "execute_result"
    }
   ],
   "source": [
    "function sigmoid(z)\n",
    "    \n",
    "    s =  1./(1+exp.(-z))\n",
    "    \n",
    "    return s\n",
    "end"
   ]
  },
  {
   "cell_type": "code",
   "execution_count": 2,
   "metadata": {},
   "outputs": [
    {
     "data": {
      "text/plain": [
       "initialize_with_zeros (generic function with 1 method)"
      ]
     },
     "execution_count": 2,
     "metadata": {},
     "output_type": "execute_result"
    }
   ],
   "source": [
    "function initialize_with_zeros(dim::Integer)\n",
    "   \n",
    "    w = zeros(dim,1)\n",
    "    b = 0.\n",
    "    \n",
    "    return w, b\n",
    "end"
   ]
  },
  {
   "cell_type": "code",
   "execution_count": 3,
   "metadata": {},
   "outputs": [
    {
     "data": {
      "text/plain": [
       "propagate (generic function with 1 method)"
      ]
     },
     "execution_count": 3,
     "metadata": {},
     "output_type": "execute_result"
    }
   ],
   "source": [
    "function propagate(w, b, X, Y)\n",
    "    m = size(X,2)\n",
    "   \n",
    "    A = sigmoid(w'*X + b)\n",
    "    cost = sum(Y .* log.(A) + (1-Y) .* log.(1-A))./-m\n",
    "    \n",
    "    A_Y = A - Y\n",
    "\n",
    "    dw = (X * A_Y')/m\n",
    "    \n",
    "    db = sum(A_Y)/m    \n",
    "    \n",
    "    grads = Dict(\"dw\" => dw,\n",
    "             \"db\" => db)\n",
    "    grads, cost\n",
    "end"
   ]
  },
  {
   "cell_type": "code",
   "execution_count": 4,
   "metadata": {},
   "outputs": [
    {
     "data": {
      "text/plain": [
       "optimize (generic function with 1 method)"
      ]
     },
     "execution_count": 4,
     "metadata": {},
     "output_type": "execute_result"
    }
   ],
   "source": [
    "function optimize(w, b, X, Y; num_iterations = 1000, learning_rate =.05, print_cost = false, print_every = 100)\n",
    "   \n",
    "    costs = []\n",
    "    dw, db = 0, 0\n",
    "    for i = 1:num_iterations\n",
    "        \n",
    "        grads, cost = propagate(w, b, X, Y)\n",
    "        \n",
    "        dw = grads[\"dw\"]\n",
    "        db = grads[\"db\"]\n",
    "        \n",
    "        w = w - learning_rate .* dw\n",
    "        b = b - learning_rate .* db\n",
    "\n",
    "        if i % print_every == 0\n",
    "            push!(costs, cost)\n",
    "        end\n",
    "        if print_cost && i % print_every == 0\n",
    "            println(\"Cost after iteration $i :  $cost\")\n",
    "        end\n",
    "    end\n",
    "    params = Dict(\"w\" => w,\n",
    "              \"b\" => b)\n",
    "    \n",
    "    grads = Dict(\"dw\" => dw,\n",
    "             \"db\" => db)\n",
    "    \n",
    "    return params, grads, costs\n",
    "end"
   ]
  },
  {
   "cell_type": "code",
   "execution_count": 5,
   "metadata": {},
   "outputs": [
    {
     "data": {
      "text/plain": [
       "predict (generic function with 1 method)"
      ]
     },
     "execution_count": 5,
     "metadata": {},
     "output_type": "execute_result"
    }
   ],
   "source": [
    "function predict(w, b, X)\n",
    "    \n",
    "    m = size(X, 2)\n",
    "    Y_prediction = zeros(1,m)\n",
    "    w = reshape(w,size(X, 1), 1)\n",
    "    \n",
    "    A = sigmoid(w' * X + b)                                   \n",
    "    Y_prediction = (A .>= .5)*1.\n",
    "\n",
    "    return Y_prediction\n",
    "end"
   ]
  },
  {
   "cell_type": "code",
   "execution_count": 6,
   "metadata": {},
   "outputs": [
    {
     "data": {
      "text/plain": [
       "model (generic function with 1 method)"
      ]
     },
     "execution_count": 6,
     "metadata": {},
     "output_type": "execute_result"
    }
   ],
   "source": [
    "function model(X_train, Y_train, X_test, Y_test;\n",
    "        num_iterations = 2000, learning_rate = 0.05, print_cost = false, print_every = 100)\n",
    "   \n",
    "    nx_train, mtrain = size(X_train)\n",
    "    nx_test, mtest = size(X_test)\n",
    "    assert(nx_train == nx_test)\n",
    "    X_train, Y_train, X_test, Y_test = float(X_train), float(Y_train), float(X_test), float(Y_test)\n",
    "    Y_train = reshape(Y_train, (1,mtrain))\n",
    "    Y_test = reshape(Y_test, (1,mtest))\n",
    "\n",
    "    w, b = initialize_with_zeros(size(X_train, 1))\n",
    "\n",
    "    parameters, grads, costs = optimize(w,b, X_train, Y_train, num_iterations= num_iterations,\n",
    "                                       learning_rate = learning_rate, print_cost = print_cost, print_every = print_every)\n",
    "    \n",
    "    w = parameters[\"w\"]\n",
    "    b = parameters[\"b\"]\n",
    "    \n",
    "    Y_prediction_test = predict(w, b, X_test)\n",
    "    Y_prediction_train = predict(w, b, X_train)\n",
    "\n",
    "\n",
    "    println(\"train accuracy: $(100 - mean(abs.(Y_prediction_train - Y_train)) .* 100)\")\n",
    "    println(\"test accuracy: $(100 - mean(abs.(Y_prediction_test - Y_test)) .* 100)\")\n",
    "\n",
    "    \n",
    "    d = Dict(\"costs\" => costs,\n",
    "         \"Y_prediction_test\"=> Y_prediction_test, \n",
    "         \"Y_prediction_train\" => Y_prediction_train, \n",
    "         \"w\" => w, \n",
    "         \"b\" => b,\n",
    "         \"learning_rate\" => learning_rate,\n",
    "         \"num_iterations\"=> num_iterations)\n",
    "    \n",
    "    return d\n",
    "end"
   ]
  },
  {
   "cell_type": "code",
   "execution_count": 7,
   "metadata": {},
   "outputs": [
    {
     "data": {
      "text/plain": [
       "(FixedPointNumbers.Normed{UInt8,8}[0.0N0f8 0.0N0f8 … 0.0N0f8 0.0N0f8; 0.0N0f8 0.0N0f8 … 0.0N0f8 0.0N0f8; … ; 0.0N0f8 0.0N0f8 … 0.0N0f8 0.0N0f8; 0.0N0f8 0.0N0f8 … 0.0N0f8 0.0N0f8]\n",
       "\n",
       "FixedPointNumbers.Normed{UInt8,8}[0.0N0f8 0.0N0f8 … 0.0N0f8 0.0N0f8; 0.0N0f8 0.0N0f8 … 0.0N0f8 0.0N0f8; … ; 0.0N0f8 0.0N0f8 … 0.0N0f8 0.0N0f8; 0.0N0f8 0.0N0f8 … 0.0N0f8 0.0N0f8]\n",
       "\n",
       "FixedPointNumbers.Normed{UInt8,8}[0.0N0f8 0.0N0f8 … 0.0N0f8 0.0N0f8; 0.0N0f8 0.0N0f8 … 0.0N0f8 0.0N0f8; … ; 0.0N0f8 0.0N0f8 … 0.0N0f8 0.0N0f8; 0.0N0f8 0.0N0f8 … 0.0N0f8 0.0N0f8]\n",
       "\n",
       "...\n",
       "\n",
       "FixedPointNumbers.Normed{UInt8,8}[0.0N0f8 0.0N0f8 … 0.0N0f8 0.0N0f8; 0.0N0f8 0.0N0f8 … 0.0N0f8 0.0N0f8; … ; 0.0N0f8 0.0N0f8 … 0.0N0f8 0.0N0f8; 0.0N0f8 0.0N0f8 … 0.0N0f8 0.0N0f8]\n",
       "\n",
       "FixedPointNumbers.Normed{UInt8,8}[0.0N0f8 0.0N0f8 … 0.0N0f8 0.0N0f8; 0.0N0f8 0.0N0f8 … 0.0N0f8 0.0N0f8; … ; 0.0N0f8 0.0N0f8 … 0.0N0f8 0.0N0f8; 0.0N0f8 0.0N0f8 … 0.0N0f8 0.0N0f8]\n",
       "\n",
       "FixedPointNumbers.Normed{UInt8,8}[0.0N0f8 0.0N0f8 … 0.0N0f8 0.0N0f8; 0.0N0f8 0.0N0f8 … 0.0N0f8 0.0N0f8; … ; 0.0N0f8 0.0N0f8 … 0.0N0f8 0.0N0f8; 0.0N0f8 0.0N0f8 … 0.0N0f8 0.0N0f8], [7, 2, 1, 0, 4, 1, 4, 9, 5, 9  …  7, 8, 9, 0, 1, 2, 3, 4, 5, 6])"
      ]
     },
     "execution_count": 7,
     "metadata": {},
     "output_type": "execute_result"
    }
   ],
   "source": [
    "#Pkg.add(\"MLDatasets\")\n",
    "using MLDatasets\n",
    "\n",
    "train_x, train_y = MNIST.traindata()\n",
    "test_x,  test_y  = MNIST.testdata()"
   ]
  },
  {
   "cell_type": "code",
   "execution_count": 8,
   "metadata": {},
   "outputs": [
    {
     "name": "stdout",
     "output_type": "stream",
     "text": [
      "(28, 28, 60000)\n",
      "(60000,)\n"
     ]
    }
   ],
   "source": [
    "println(size(train_x))\n",
    "println(size(train_y))"
   ]
  },
  {
   "cell_type": "code",
   "execution_count": 9,
   "metadata": {},
   "outputs": [
    {
     "data": {
      "text/plain": [
       "784×10000 Array{N0f8,2}:\n",
       " 0.0N0f8  0.0N0f8  0.0N0f8  0.0N0f8  …  0.0N0f8  0.0N0f8  0.0N0f8  0.0N0f8\n",
       " 0.0N0f8  0.0N0f8  0.0N0f8  0.0N0f8     0.0N0f8  0.0N0f8  0.0N0f8  0.0N0f8\n",
       " 0.0N0f8  0.0N0f8  0.0N0f8  0.0N0f8     0.0N0f8  0.0N0f8  0.0N0f8  0.0N0f8\n",
       " 0.0N0f8  0.0N0f8  0.0N0f8  0.0N0f8     0.0N0f8  0.0N0f8  0.0N0f8  0.0N0f8\n",
       " 0.0N0f8  0.0N0f8  0.0N0f8  0.0N0f8     0.0N0f8  0.0N0f8  0.0N0f8  0.0N0f8\n",
       " 0.0N0f8  0.0N0f8  0.0N0f8  0.0N0f8  …  0.0N0f8  0.0N0f8  0.0N0f8  0.0N0f8\n",
       " 0.0N0f8  0.0N0f8  0.0N0f8  0.0N0f8     0.0N0f8  0.0N0f8  0.0N0f8  0.0N0f8\n",
       " 0.0N0f8  0.0N0f8  0.0N0f8  0.0N0f8     0.0N0f8  0.0N0f8  0.0N0f8  0.0N0f8\n",
       " 0.0N0f8  0.0N0f8  0.0N0f8  0.0N0f8     0.0N0f8  0.0N0f8  0.0N0f8  0.0N0f8\n",
       " 0.0N0f8  0.0N0f8  0.0N0f8  0.0N0f8     0.0N0f8  0.0N0f8  0.0N0f8  0.0N0f8\n",
       " 0.0N0f8  0.0N0f8  0.0N0f8  0.0N0f8  …  0.0N0f8  0.0N0f8  0.0N0f8  0.0N0f8\n",
       " 0.0N0f8  0.0N0f8  0.0N0f8  0.0N0f8     0.0N0f8  0.0N0f8  0.0N0f8  0.0N0f8\n",
       " 0.0N0f8  0.0N0f8  0.0N0f8  0.0N0f8     0.0N0f8  0.0N0f8  0.0N0f8  0.0N0f8\n",
       " ⋮                                   ⋱                                    \n",
       " 0.0N0f8  0.0N0f8  0.0N0f8  0.0N0f8     0.0N0f8  0.0N0f8  0.0N0f8  0.0N0f8\n",
       " 0.0N0f8  0.0N0f8  0.0N0f8  0.0N0f8     0.0N0f8  0.0N0f8  0.0N0f8  0.0N0f8\n",
       " 0.0N0f8  0.0N0f8  0.0N0f8  0.0N0f8     0.0N0f8  0.0N0f8  0.0N0f8  0.0N0f8\n",
       " 0.0N0f8  0.0N0f8  0.0N0f8  0.0N0f8  …  0.0N0f8  0.0N0f8  0.0N0f8  0.0N0f8\n",
       " 0.0N0f8  0.0N0f8  0.0N0f8  0.0N0f8     0.0N0f8  0.0N0f8  0.0N0f8  0.0N0f8\n",
       " 0.0N0f8  0.0N0f8  0.0N0f8  0.0N0f8     0.0N0f8  0.0N0f8  0.0N0f8  0.0N0f8\n",
       " 0.0N0f8  0.0N0f8  0.0N0f8  0.0N0f8     0.0N0f8  0.0N0f8  0.0N0f8  0.0N0f8\n",
       " 0.0N0f8  0.0N0f8  0.0N0f8  0.0N0f8     0.0N0f8  0.0N0f8  0.0N0f8  0.0N0f8\n",
       " 0.0N0f8  0.0N0f8  0.0N0f8  0.0N0f8  …  0.0N0f8  0.0N0f8  0.0N0f8  0.0N0f8\n",
       " 0.0N0f8  0.0N0f8  0.0N0f8  0.0N0f8     0.0N0f8  0.0N0f8  0.0N0f8  0.0N0f8\n",
       " 0.0N0f8  0.0N0f8  0.0N0f8  0.0N0f8     0.0N0f8  0.0N0f8  0.0N0f8  0.0N0f8\n",
       " 0.0N0f8  0.0N0f8  0.0N0f8  0.0N0f8     0.0N0f8  0.0N0f8  0.0N0f8  0.0N0f8"
      ]
     },
     "execution_count": 9,
     "metadata": {},
     "output_type": "execute_result"
    }
   ],
   "source": [
    "train_x = reshape(train_x, (28*28, 60000))\n",
    "test_x = reshape(test_x, (28*28, 10000))"
   ]
  },
  {
   "cell_type": "code",
   "execution_count": 10,
   "metadata": {},
   "outputs": [
    {
     "data": {
      "text/plain": [
       "(60000,)"
      ]
     },
     "execution_count": 10,
     "metadata": {},
     "output_type": "execute_result"
    }
   ],
   "source": [
    "#test_x = test_x'\n",
    "#train_x = train_x'\n",
    "#test_y = test_y'\n",
    "#train_y = train_y'\n",
    "size(train_y)"
   ]
  },
  {
   "cell_type": "code",
   "execution_count": 11,
   "metadata": {},
   "outputs": [
    {
     "data": {
      "text/plain": [
       "1850-element Array{Int64,1}:\n",
       " 5\n",
       " 6\n",
       " 5\n",
       " 6\n",
       " 6\n",
       " 5\n",
       " 5\n",
       " 6\n",
       " 5\n",
       " 5\n",
       " 6\n",
       " 5\n",
       " 6\n",
       " ⋮\n",
       " 6\n",
       " 6\n",
       " 6\n",
       " 6\n",
       " 5\n",
       " 6\n",
       " 6\n",
       " 5\n",
       " 5\n",
       " 6\n",
       " 5\n",
       " 6"
      ]
     },
     "execution_count": 11,
     "metadata": {},
     "output_type": "execute_result"
    }
   ],
   "source": [
    "train_x = train_x[:, 4 .< train_y .< 7]\n",
    "train_y = train_y[4 .< train_y .< 7]\n",
    "test_x = test_x[:, 4 .< test_y .< 7]\n",
    "test_y = test_y[4 .< test_y .< 7]"
   ]
  },
  {
   "cell_type": "code",
   "execution_count": 12,
   "metadata": {},
   "outputs": [
    {
     "data": {
      "text/plain": [
       "([0, 0, 1, 1, 1, 0, 1, 1, 0, 1  …  0, 1, 0, 1, 1, 1, 1, 0, 0, 1], [0, 1, 0, 1, 1, 0, 0, 1, 0, 0  …  1, 1, 0, 1, 1, 0, 0, 1, 0, 1])"
      ]
     },
     "execution_count": 12,
     "metadata": {},
     "output_type": "execute_result"
    }
   ],
   "source": [
    "train_y, test_y = train_y - 5, test_y - 5"
   ]
  },
  {
   "cell_type": "code",
   "execution_count": 13,
   "metadata": {},
   "outputs": [
    {
     "data": {
      "text/plain": [
       "(11339,)"
      ]
     },
     "execution_count": 13,
     "metadata": {},
     "output_type": "execute_result"
    }
   ],
   "source": [
    "size(train_y)"
   ]
  },
  {
   "cell_type": "code",
   "execution_count": 15,
   "metadata": {},
   "outputs": [
    {
     "name": "stdout",
     "output_type": "stream",
     "text": [
      "Cost after iteration 100 :  0.38911032236086024\n",
      "Cost after iteration 200 :  0.2896087332469981\n",
      "Cost after iteration 300 :  0.2409613741290059\n",
      "Cost after iteration 400 :  0.21169460371917376\n",
      "Cost after iteration 500 :  0.19189982014900067\n",
      "train accuracy: 95.92556662845048\n",
      "test accuracy: 95.94594594594595\n"
     ]
    },
    {
     "data": {
      "text/plain": [
       "Dict{String,Any} with 7 entries:\n",
       "  \"w\"                  => [0.0; 0.0; … ; 0.0; 0.0]\n",
       "  \"Y_prediction_test\"  => [1.0 1.0 … 0.0 1.0]\n",
       "  \"b\"                  => -0.0444569\n",
       "  \"learning_rate\"      => 0.005\n",
       "  \"Y_prediction_train\" => [0.0 0.0 … 0.0 1.0]\n",
       "  \"num_iterations\"     => 500\n",
       "  \"costs\"              => Any[0.38911, 0.289609, 0.240961, 0.211695, 0.1919]"
      ]
     },
     "execution_count": 15,
     "metadata": {},
     "output_type": "execute_result"
    }
   ],
   "source": [
    "d = model(train_x, train_y, test_x, test_y,\n",
    "          num_iterations =500, learning_rate = .005, print_cost = true, print_every = 100)"
   ]
  }
 ],
 "metadata": {
  "kernelspec": {
   "display_name": "Julia 0.6.2",
   "language": "julia",
   "name": "julia-0.6"
  },
  "language_info": {
   "file_extension": ".jl",
   "mimetype": "application/julia",
   "name": "julia",
   "version": "0.6.2"
  }
 },
 "nbformat": 4,
 "nbformat_minor": 2
}
